{
  "nbformat": 4,
  "nbformat_minor": 0,
  "metadata": {
    "colab": {
      "provenance": []
    },
    "kernelspec": {
      "name": "python3",
      "display_name": "Python 3"
    },
    "language_info": {
      "name": "python"
    }
  },
  "cells": [
    {
      "cell_type": "markdown",
      "source": [],
      "metadata": {
        "id": "GFlewECDpBM2"
      }
    },
    {
      "cell_type": "markdown",
      "source": [
        "#  **Functions**\n"
      ],
      "metadata": {
        "id": "aI2py_L1pCqS"
      }
    },
    {
      "cell_type": "markdown",
      "source": [],
      "metadata": {
        "id": "qRbvOyfo24_C"
      }
    },
    {
      "cell_type": "markdown",
      "metadata": {
        "id": "753c6f95"
      },
      "source": [
        "\n",
        "\n",
        "\n",
        "### 1. What is the difference between a function and a method in Python?\n",
        "\n",
        "- **Function:** A block of reusable code that performs a specific task. It can be called independently.\n",
        "- **Method:** A function that is defined inside a class. It is associated with an object and is called on an instance of that class (it implicitly takes the instance, often referred to as self, as its first argument).\n",
        "\n",
        "**Example:**"
      ]
    },
    {
      "cell_type": "code",
      "metadata": {
        "id": "14312eba"
      },
      "source": [
        "# Function\n",
        "def my_function(x):\n",
        "  return x * 2\n",
        "\n",
        "print(my_function(5))\n",
        "\n",
        "# Method\n",
        "class MyClass:\n",
        "  def my_method(self, x):\n",
        "    return x + 10\n",
        "\n",
        "my_object = MyClass()\n",
        "print(my_object.my_method(5))"
      ],
      "execution_count": null,
      "outputs": []
    },
    {
      "cell_type": "markdown",
      "metadata": {
        "id": "82f2b815"
      },
      "source": [
        "### 2. Explain the concept of function arguments and parameters in Python.\n",
        "\n",
        "- **Parameters:** The names listed in the function definition. They are placeholders for the values the function expects to receive.\n",
        "- **Arguments:** The actual values passed to the function when it is called. The arguments correspond to the parameters.\n",
        "\n",
        "**Example:**"
      ]
    },
    {
      "cell_type": "code",
      "metadata": {
        "id": "3e0bdb04"
      },
      "source": [
        "# 'a' and 'b' are parameters\n",
        "def add_numbers(a, b):\n",
        "  return a + b\n",
        "\n",
        "# 5 and 3 are arguments\n",
        "result = add_numbers(5, 3)\n",
        "print(result)"
      ],
      "execution_count": null,
      "outputs": []
    },
    {
      "cell_type": "markdown",
      "metadata": {
        "id": "2d26142c"
      },
      "source": [
        "### 3. What are the different ways to define and call a function in Python?\n",
        "\n",
        "Functions are defined using the def keyword, followed by the function name, parentheses (), and a colon :. The function body is indented.\n",
        "\n",
        "Functions are called by using the function name followed by parentheses (), which may contain arguments.\n",
        "\n",
        "**Example:**"
      ]
    },
    {
      "cell_type": "code",
      "metadata": {
        "id": "11f1111c"
      },
      "source": [
        "# Defining a function\n",
        "def greet(name):\n",
        "  print(f\"Hello, {name}!\")\n",
        "\n",
        "# Calling a function\n",
        "greet(\"Alice\")"
      ],
      "execution_count": null,
      "outputs": []
    },
    {
      "cell_type": "markdown",
      "metadata": {
        "id": "c1995c97"
      },
      "source": [
        "### 4. What is the purpose of the return statement in a Python function?\n",
        "\n",
        "The return statement is used to exit a function and send a value back to the caller. If a function does not have a return statement, it returns None by default.\n",
        "\n",
        "**Example:**"
      ]
    },
    {
      "cell_type": "code",
      "metadata": {
        "id": "a5d20ea2"
      },
      "source": [
        "def multiply(x, y):\n",
        "  return x * y\n",
        "\n",
        "def do_nothing():\n",
        "  pass # This function will return None\n",
        "\n",
        "product = multiply(4, 6)\n",
        "print(product)\n",
        "\n",
        "none_value = do_nothing()\n",
        "print(none_value)"
      ],
      "execution_count": null,
      "outputs": []
    },
    {
      "cell_type": "markdown",
      "metadata": {
        "id": "cc1251de"
      },
      "source": [
        "### 5. What are iterators in Python and how do they differ from iterables?\n",
        "\n",
        "- **Iterable:** An object that can be looped over. It has an __iter__() method that returns an iterator. Examples include lists, tuples, strings, dictionaries, and sets.\n",
        "- **Iterator:** An object that represents a stream of data. It has a __next__() method that returns the next item in the sequence. When there are no more items, it raises the StopIteration exception.\n",
        "\n",
        "An iterable is not an iterator, but an iterator is an iterable. You can get an iterator from an iterable using the iter() function.\n",
        "\n",
        "**Example:**"
      ]
    },
    {
      "cell_type": "code",
      "metadata": {
        "id": "5f4cdbe6"
      },
      "source": [
        "# Iterable (a list)\n",
        "my_list = [1, 2, 3, 4]\n",
        "\n",
        "# Get an iterator from the iterable\n",
        "my_iterator = iter(my_list)\n",
        "\n",
        "# Using the iterator with next()\n",
        "print(next(my_iterator))\n",
        "print(next(my_iterator))\n",
        "\n",
        "# Iterating using a for loop (which implicitly uses an iterator)\n",
        "for item in my_list:\n",
        "  print(item)"
      ],
      "execution_count": null,
      "outputs": []
    },
    {
      "cell_type": "markdown",
      "metadata": {
        "id": "878a67f1"
      },
      "source": [
        "### 6. Explain the concept of generators in Python and how they are defined.\n",
        "\n",
        "- **Generator:** A type of iterator that allows you to iterate over a sequence of values. Unlike normal functions that return a value and exit, generators use the yield keyword to produce a sequence of values over time. This makes them memory efficient for large sequences, as they generate values on the fly rather than storing them all in memory.\n",
        "\n",
        "Generators are defined like regular functions, but instead of using return, they use yield to return a value.\n",
        "\n",
        "**Example:**"
      ]
    },
    {
      "cell_type": "code",
      "metadata": {
        "id": "c90af032"
      },
      "source": [
        "def simple_generator():\n",
        "  yield 1\n",
        "  yield 2\n",
        "  yield 3\n",
        "\n",
        "# Using the generator\n",
        "for value in simple_generator():\n",
        "  print(value)"
      ],
      "execution_count": null,
      "outputs": []
    },
    {
      "cell_type": "markdown",
      "metadata": {
        "id": "b308cc36"
      },
      "source": [
        "### 7. What are the advantages of using generators over regular functions?\n",
        "\n",
        "The main advantages of using generators are:\n",
        "\n",
        "- **Memory Efficiency:** Generators produce values on demand, making them ideal for working with large datasets or infinite sequences, as they don't load everything into memory at once.\n",
        "- **Lazy Evaluation:** Values are generated only when requested, which can improve performance in certain scenarios.\n",
        "- **Readability and Simplicity:** For certain types of sequences, generators can make code more concise and easier to understand compared to creating a list or other data structure."
      ]
    },
    {
      "cell_type": "markdown",
      "metadata": {
        "id": "6c579397"
      },
      "source": [
        "### 8. What is a lambda function in Python and when is it typically used?\n",
        "\n",
        "- **Lambda Function:** A small, anonymous function defined with the lambda keyword. It can take any number of arguments but can only have one expression. The expression is evaluated, and the result is returned.\n",
        "\n",
        "Lambda functions are typically used for short, simple operations where a full function definition is unnecessary. They are often used as arguments to higher-order functions like map(), filter(), and sorted().\n",
        "\n",
        "**Example:**"
      ]
    },
    {
      "cell_type": "code",
      "metadata": {
        "id": "d02b84f2"
      },
      "source": [
        "# A lambda function that adds 10 to a number\n",
        "add_ten = lambda x: x + 10\n",
        "print(add_ten(5))\n",
        "\n",
        "# Using lambda with sorted()\n",
        "my_list = [(1, 'b'), (3, 'a'), (2, 'c')]\n",
        "sorted_list = sorted(my_list, key=lambda item: item[1])\n",
        "print(sorted_list)"
      ],
      "execution_count": null,
      "outputs": []
    },
    {
      "cell_type": "markdown",
      "metadata": {
        "id": "f341874f"
      },
      "source": [
        "### 9. Explain the purpose and usage of the map() function in Python.\n",
        "\n",
        "- **map() function:** Applies a given function to each item of an iterable (like a list or tuple) and returns an iterator that yields the results. It's a concise way to perform the same operation on every element of a sequence.\n",
        "\n",
        "**Usage:** map(function, iterable)\n",
        "\n",
        "**Example:**"
      ]
    },
    {
      "cell_type": "code",
      "metadata": {
        "id": "f3810055"
      },
      "source": [
        "def square(x):\n",
        "  return x * x\n",
        "\n",
        "numbers = [1, 2, 3, 4, 5]\n",
        "squared_numbers = map(square, numbers)\n",
        "\n",
        "# Convert the map object to a list to see the results\n",
        "print(list(squared_numbers))\n",
        "\n",
        "# Using lambda with map()\n",
        "numbers = [1, 2, 3, 4, 5]\n",
        "squared_numbers_lambda = map(lambda x: x * x, numbers)\n",
        "print(list(squared_numbers_lambda))"
      ],
      "execution_count": null,
      "outputs": []
    },
    {
      "cell_type": "markdown",
      "metadata": {
        "id": "da56f24f"
      },
      "source": [
        "### 10. What is the difference between map(), reduce(), and filter() functions in Python?\n",
        "\n",
        "These are built-in functions that operate on iterables, often used with lambda functions:\n",
        "\n",
        "- **map(function, iterable):** Applies a function to each item of an iterable and returns an iterator of the results. It transforms each element individually.\n",
        "\n",
        "- **filter(function, iterable):** Constructs an iterator from those elements of iterable for which function returns true. It selects elements based on a condition.\n",
        "\n",
        "- **reduce(function, iterable):** (Requires functools` module) Applies a function of two arguments cumulatively to the items of an iterable, from left to right, so as to reduce the iterable to a single value. It combines elements.\n",
        "\n",
        "**Examples:**"
      ]
    },
    {
      "cell_type": "code",
      "metadata": {
        "id": "74cfe059"
      },
      "source": [
        "from functools import reduce\n",
        "\n",
        "# map() example (already shown above)\n",
        "\n",
        "# filter() example\n",
        "numbers = [1, 2, 3, 4, 5, 6]\n",
        "even_numbers = filter(lambda x: x % 2 == 0, numbers)\n",
        "print(list(even_numbers))\n",
        "\n",
        "# reduce() example\n",
        "numbers = [1, 2, 3, 4, 5]\n",
        "sum_of_numbers = reduce(lambda x, y: x + y, numbers)\n",
        "print(sum_of_numbers)"
      ],
      "execution_count": null,
      "outputs": []
    },
    {
      "cell_type": "markdown",
      "source": [
        " ### 11. Using pen & Paper write the internal mechanism for sum operation using  reduce function on this given list: [47,11,42,13];\n",
        "\n",
        "![WhatsApp Image 2025-09-30 at 01.35.37.jpeg](data:image/jpeg;base64,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)\n",
        "\n",
        "\n",
        "\n",
        "  "
      ],
      "metadata": {
        "id": "N-kDXeX4CFuw"
      }
    },
    {
      "cell_type": "markdown",
      "source": [
        "### **Practical Questions**"
      ],
      "metadata": {
        "id": "F-IPfKHZFpr2"
      }
    },
    {
      "cell_type": "code",
      "source": [],
      "metadata": {
        "id": "wmSx4wyAFnCD"
      },
      "execution_count": null,
      "outputs": []
    },
    {
      "cell_type": "markdown",
      "metadata": {
        "id": "3364df1b"
      },
      "source": [
        "### 1. Write a Python function that takes a list of numbers as input and returns the sum of all even numbers in the list."
      ]
    },
    {
      "cell_type": "code",
      "metadata": {
        "colab": {
          "base_uri": "https://localhost:8080/"
        },
        "id": "6f08b57c",
        "outputId": "c374d227-142c-4d4b-e3b5-5464e9613571"
      },
      "source": [
        "def sum_even_numbers(numbers):\n",
        "\n",
        "  even_sum = 0\n",
        "  for number in numbers:\n",
        "    if number % 2 == 0:\n",
        "      even_sum += number\n",
        "  return even_sum\n",
        "\n",
        "# Example usage:\n",
        "my_list = [1, 2, 3, 4, 5, 6, 7, 8, 9, 10]\n",
        "result = sum_even_numbers(my_list)\n",
        "print(f\"The sum of even numbers in the list is: {result}\")"
      ],
      "execution_count": 1,
      "outputs": [
        {
          "output_type": "stream",
          "name": "stdout",
          "text": [
            "The sum of even numbers in the list is: 30\n"
          ]
        }
      ]
    },
    {
      "cell_type": "markdown",
      "metadata": {
        "id": "c754e35e"
      },
      "source": [
        "### 2. Create a Python function that accepts a string and returns the reverse of that string."
      ]
    },
    {
      "cell_type": "code",
      "metadata": {
        "colab": {
          "base_uri": "https://localhost:8080/"
        },
        "id": "5c0bc58a",
        "outputId": "4d0178fb-76af-4fc9-9399-92f508d9930b"
      },
      "source": [
        "def reverse_string(input_string):\n",
        "\n",
        "  return input_string[::-1]\n",
        "\n",
        "# Example usage:\n",
        "my_string = \"Hello, World!\"\n",
        "reversed_string = reverse_string(my_string)\n",
        "print(f\"The reversed string is: {reversed_string}\")"
      ],
      "execution_count": 2,
      "outputs": [
        {
          "output_type": "stream",
          "name": "stdout",
          "text": [
            "The reversed string is: !dlroW ,olleH\n"
          ]
        }
      ]
    },
    {
      "cell_type": "markdown",
      "metadata": {
        "id": "f5b29ccf"
      },
      "source": [
        "### 3. Implement a Python function that takes a list of integers and returns a new list containing the squares of each number."
      ]
    },
    {
      "cell_type": "code",
      "metadata": {
        "colab": {
          "base_uri": "https://localhost:8080/"
        },
        "id": "1791107f",
        "outputId": "556210aa-7cb3-479f-8fa6-5e377290ff0a"
      },
      "source": [
        "def square_numbers(numbers):\n",
        "\n",
        "  return [x**2 for x in numbers]\n",
        "\n",
        "# Example usage:\n",
        "my_list = [1, 2, 3, 4, 5]\n",
        "squared_list = square_numbers(my_list)\n",
        "print(f\"The list with squared numbers is: {squared_list}\")"
      ],
      "execution_count": 3,
      "outputs": [
        {
          "output_type": "stream",
          "name": "stdout",
          "text": [
            "The list with squared numbers is: [1, 4, 9, 16, 25]\n"
          ]
        }
      ]
    },
    {
      "cell_type": "markdown",
      "metadata": {
        "id": "c8b1e78c"
      },
      "source": [
        "### 4. Write a Python function that checks if a given number is prime or not from 1 to 200."
      ]
    },
    {
      "cell_type": "code",
      "metadata": {
        "colab": {
          "base_uri": "https://localhost:8080/"
        },
        "id": "eac257d2",
        "outputId": "59f8c1e8-0638-446e-8059-0817a5ae716e"
      },
      "source": [
        "import math\n",
        "\n",
        "def is_prime(number):\n",
        "\n",
        "  if number <= 1:\n",
        "    return False\n",
        "  if number <= 3:\n",
        "    return True\n",
        "  if number % 2 == 0 or number % 3 == 0:\n",
        "    return False\n",
        "  i = 5\n",
        "  while i * i <= number:\n",
        "    if number % i == 0 or number % (i + 2) == 0:\n",
        "      return False\n",
        "    i += 6\n",
        "  return True\n",
        "\n",
        "# Example usage for numbers from 1 to 200:\n",
        "print(\"Prime numbers between 1 and 200:\")\n",
        "for num in range(1, 201):\n",
        "  if is_prime(num):\n",
        "    print(num, end=\" \")"
      ],
      "execution_count": 4,
      "outputs": [
        {
          "output_type": "stream",
          "name": "stdout",
          "text": [
            "Prime numbers between 1 and 200:\n",
            "2 3 5 7 11 13 17 19 23 29 31 37 41 43 47 53 59 61 67 71 73 79 83 89 97 101 103 107 109 113 127 131 137 139 149 151 157 163 167 173 179 181 191 193 197 199 "
          ]
        }
      ]
    },
    {
      "cell_type": "markdown",
      "metadata": {
        "id": "50e9eb13"
      },
      "source": [
        "### 5. Create an iterator class in Python that generates the Fibonacci sequence up to a specified number of terms."
      ]
    },
    {
      "cell_type": "code",
      "metadata": {
        "colab": {
          "base_uri": "https://localhost:8080/"
        },
        "id": "42a88018",
        "outputId": "72fe61f7-ed15-4132-d8d2-c65d6f8d6d28"
      },
      "source": [
        "class FibonacciIterator:\n",
        "\n",
        "  def __init__(self, num_terms):\n",
        "    self.num_terms = num_terms\n",
        "    self.current_term = 0\n",
        "    self.a = 0\n",
        "    self.b = 1\n",
        "\n",
        "  def __iter__(self):\n",
        "    return self\n",
        "\n",
        "  def __next__(self):\n",
        "    if self.current_term < self.num_terms:\n",
        "      if self.current_term == 0:\n",
        "        self.current_term += 1\n",
        "        return self.a\n",
        "      elif self.current_term == 1:\n",
        "        self.current_term += 1\n",
        "        return self.b\n",
        "      else:\n",
        "        next_fib = self.a + self.b\n",
        "        self.a = self.b\n",
        "        self.b = next_fib\n",
        "        self.current_term += 1\n",
        "        return next_fib\n",
        "    else:\n",
        "      raise StopIteration\n",
        "\n",
        "# Example usage:\n",
        "fib_iterator = FibonacciIterator(10)\n",
        "print(\"\\nFibonacci sequence up to 10 terms:\")\n",
        "for term in fib_iterator:\n",
        "  print(term)"
      ],
      "execution_count": 5,
      "outputs": [
        {
          "output_type": "stream",
          "name": "stdout",
          "text": [
            "\n",
            "Fibonacci sequence up to 10 terms:\n",
            "0\n",
            "1\n",
            "1\n",
            "2\n",
            "3\n",
            "5\n",
            "8\n",
            "13\n",
            "21\n",
            "34\n"
          ]
        }
      ]
    },
    {
      "cell_type": "markdown",
      "metadata": {
        "id": "15087404"
      },
      "source": [
        "### 6. Write a generator function in Python that yields the powers of 2 up to a given exponent."
      ]
    },
    {
      "cell_type": "code",
      "metadata": {
        "colab": {
          "base_uri": "https://localhost:8080/"
        },
        "id": "b17e123b",
        "outputId": "237d351a-414e-43b5-9598-037d922fcd67"
      },
      "source": [
        "def powers_of_two(max_exponent):\n",
        "\n",
        "  for i in range(max_exponent + 1):\n",
        "    yield 2**i\n",
        "\n",
        "# Example usage:\n",
        "powers = powers_of_two(5)\n",
        "print(\"\\nPowers of 2 up to exponent 5:\")\n",
        "for power in powers:\n",
        "  print(power)"
      ],
      "execution_count": 6,
      "outputs": [
        {
          "output_type": "stream",
          "name": "stdout",
          "text": [
            "\n",
            "Powers of 2 up to exponent 5:\n",
            "1\n",
            "2\n",
            "4\n",
            "8\n",
            "16\n",
            "32\n"
          ]
        }
      ]
    },
    {
      "cell_type": "markdown",
      "metadata": {
        "id": "02532b58"
      },
      "source": [
        "### 7. Implement a generator function that reads a file line by line and yields each line as a string."
      ]
    },
    {
      "cell_type": "code",
      "metadata": {
        "colab": {
          "base_uri": "https://localhost:8080/"
        },
        "id": "209768db",
        "outputId": "e83f1aa2-34f2-42bb-bb9f-4d4e5f2a4b6f"
      },
      "source": [
        "import os\n",
        "\n",
        "def read_file_lines(filepath):\n",
        "\n",
        "  if not os.path.exists(filepath):\n",
        "    print(f\"Error: File not found at {filepath}\")\n",
        "    return # Exit the generator\n",
        "\n",
        "  with open(filepath, 'r') as f:\n",
        "    for line in f:\n",
        "      yield line.strip() # Yield each line, stripped of leading/trailing whitespace\n",
        "\n",
        "# Example usage:\n",
        "# Create a dummy file for demonstration\n",
        "with open(\"my_dummy_file.txt\", \"w\") as f:\n",
        "  f.write(\"This is line 1.\\n\")\n",
        "  f.write(\"This is line 2.\\n\")\n",
        "  f.write(\"This is line 3.\\n\")\n",
        "\n",
        "print(\"\\nReading file line by line:\")\n",
        "for line in read_file_lines(\"my_dummy_file.txt\"):\n",
        "  print(line)\n",
        "\n",
        "# Clean up the dummy file\n",
        "os.remove(\"my_dummy_file.txt\")"
      ],
      "execution_count": 7,
      "outputs": [
        {
          "output_type": "stream",
          "name": "stdout",
          "text": [
            "\n",
            "Reading file line by line:\n",
            "This is line 1.\n",
            "This is line 2.\n",
            "This is line 3.\n"
          ]
        }
      ]
    },
    {
      "cell_type": "markdown",
      "metadata": {
        "id": "08630449"
      },
      "source": [
        "### 8. Use a lambda function in Python to sort a list of tuples based on the second element of each tuple."
      ]
    },
    {
      "cell_type": "code",
      "metadata": {
        "colab": {
          "base_uri": "https://localhost:8080/"
        },
        "id": "8b2617d0",
        "outputId": "5fd35cfe-55a8-4440-da5f-4bb341c1510e"
      },
      "source": [
        "# Example list of tuples:\n",
        "my_list_of_tuples = [(1, 'banana'), (3, 'apple'), (2, 'cherry')]\n",
        "\n",
        "# Sort the list based on the second element using a lambda function\n",
        "sorted_list_of_tuples = sorted(my_list_of_tuples, key=lambda item: item[1])\n",
        "\n",
        "print(\"\\nSorted list of tuples based on the second element:\")\n",
        "print(sorted_list_of_tuples)"
      ],
      "execution_count": 8,
      "outputs": [
        {
          "output_type": "stream",
          "name": "stdout",
          "text": [
            "\n",
            "Sorted list of tuples based on the second element:\n",
            "[(3, 'apple'), (1, 'banana'), (2, 'cherry')]\n"
          ]
        }
      ]
    },
    {
      "cell_type": "markdown",
      "metadata": {
        "id": "7f526a05"
      },
      "source": [
        "### 9. Write a Python program that uses `map()` to convert a list of temperatures from Celsius to Fahrenheit."
      ]
    },
    {
      "cell_type": "code",
      "metadata": {
        "colab": {
          "base_uri": "https://localhost:8080/"
        },
        "id": "c0d9dd76",
        "outputId": "4465d33f-03ec-484c-b1e8-d950ed080762"
      },
      "source": [
        "# List of temperatures in Celsius\n",
        "celsius_temperatures = [0, 10, 20, 30, 40]\n",
        "\n",
        "# Lambda function to convert Celsius to Fahrenheit: F = (C * 9/5) + 32\n",
        "celsius_to_fahrenheit = lambda c: (c * 9/5) + 32\n",
        "\n",
        "# Use map() to apply the conversion function to each element\n",
        "fahrenheit_temperatures = list(map(celsius_to_fahrenheit, celsius_temperatures))\n",
        "\n",
        "print(\"\\nTemperatures in Fahrenheit:\")\n",
        "print(fahrenheit_temperatures)"
      ],
      "execution_count": 9,
      "outputs": [
        {
          "output_type": "stream",
          "name": "stdout",
          "text": [
            "\n",
            "Temperatures in Fahrenheit:\n",
            "[32.0, 50.0, 68.0, 86.0, 104.0]\n"
          ]
        }
      ]
    },
    {
      "cell_type": "markdown",
      "metadata": {
        "id": "b32d3609"
      },
      "source": [
        "### 10. Create a Python program that uses `filter()` to remove all the vowels from a given string."
      ]
    },
    {
      "cell_type": "code",
      "metadata": {
        "colab": {
          "base_uri": "https://localhost:8080/"
        },
        "id": "b10713c3",
        "outputId": "317685a9-b788-43e3-8eb1-49cda6c565fa"
      },
      "source": [
        "def remove_vowels(input_string):\n",
        "\n",
        "  vowels = \"aeiouAEIOU\"\n",
        "  # Use filter with a lambda function to keep characters that are NOT vowels\n",
        "  filtered_characters = filter(lambda char: char not in vowels, input_string)\n",
        "  return \"\".join(filtered_characters)\n",
        "\n",
        "# Example usage:\n",
        "my_string = \"Programming is fun!\"\n",
        "string_without_vowels = remove_vowels(my_string)\n",
        "print(\"\\nString with vowels removed:\")\n",
        "print(string_without_vowels)"
      ],
      "execution_count": 10,
      "outputs": [
        {
          "output_type": "stream",
          "name": "stdout",
          "text": [
            "\n",
            "String with vowels removed:\n",
            "Prgrmmng s fn!\n"
          ]
        }
      ]
    }
  ]
}